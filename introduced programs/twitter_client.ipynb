{
 "cells": [
  {
   "cell_type": "code",
   "execution_count": null,
   "metadata": {
    "collapsed": true
   },
   "outputs": [],
   "source": [
    "# twitter_client.py\n",
    "import os\n",
    "import sys\n",
    "from tweepy import API\n",
    "from tweepy import OAuthHandler\n",
    "\n",
    "def get_twitter_auth():\n",
    "  try: \n",
    "    consumer_key = 'peTLAxjDjIhEw9jD93fttR9dI'\n",
    "    consumer_secret = 'wAKXbh6ZsYfBmgh0SKnF9oxldx4CXKbkOz6lBXgt8mGRU4vGqL'\n",
    "    access_token = '887623406924972032-WqTWdZQQOVMbdG9LDD7iSAkh0CBaFUk'\n",
    "    access_secret = 'RvCbbRZ0FpBUE0nuI3N0YFmQUZMLcLazifSDm62fs4QA9'\n",
    "  except KeyError: \n",
    "    sys.stderr.write(\"TWITTER_* environment variables not set\\n\") \n",
    "    sys.exit(1) \n",
    "  auth = OAuthHandler(consumer_key, consumer_secret) \n",
    "  auth.set_access_token(access_token, access_secret) \n",
    "  return auth \n",
    " \n",
    "def get_twitter_client(): \n",
    "  \"\"\"Setup Twitter API client. \n",
    "  Return: tweepy.API object \n",
    "  \"\"\" \n",
    "  auth = get_twitter_auth() \n",
    "  client = API(auth) \n",
    "  return client "
   ]
  }
 ],
 "metadata": {
  "kernelspec": {
   "display_name": "Python 3",
   "language": "python",
   "name": "python3"
  },
  "language_info": {
   "codemirror_mode": {
    "name": "ipython",
    "version": 3
   },
   "file_extension": ".py",
   "mimetype": "text/x-python",
   "name": "python",
   "nbconvert_exporter": "python",
   "pygments_lexer": "ipython3",
   "version": "3.6.1"
  }
 },
 "nbformat": 4,
 "nbformat_minor": 2
}
