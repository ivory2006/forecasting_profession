{
 "cells": [
  {
   "cell_type": "code",
   "execution_count": null,
   "metadata": {
    "collapsed": true
   },
   "outputs": [],
   "source": [
    "from twitter_client import get_twitter_client\n",
    "import json\n",
    "import csv\n",
    "import codecs\n",
    "from time import sleep\n",
    "exampleFile=open('new200k_250.csv')\n",
    "exampleData=csv.reader(exampleFile)\n",
    "exampleList=list(exampleData)\n",
    "client = get_twitter_client()\n",
    "name=1\n",
    "for i in range(1,26257,1):\n",
    "    try:\n",
    "        fname=\"{}.txt\".format(name)\n",
    "        query = client.user_timeline(exampleList[i][0])\n",
    "        for tweet in query:\n",
    "            with open(fname,\"ab\") as f:\n",
    "                f.write(tweet.text.encode('utf8'))\n",
    "                f.close()\n",
    "        print(name)\n",
    "        name=name+1        \n",
    "        if i%1000==0:\n",
    "            time.sleep(120)\n",
    "    except:\n",
    "        print('Error:Unicode Encode Error or Cannot find any message of the person in the last 7 days')\n",
    "        name=name+1\n",
    "    "
   ]
  }
 ],
 "metadata": {
  "kernelspec": {
   "display_name": "Python 3",
   "language": "python",
   "name": "python3"
  },
  "language_info": {
   "codemirror_mode": {
    "name": "ipython",
    "version": 3
   },
   "file_extension": ".py",
   "mimetype": "text/x-python",
   "name": "python",
   "nbconvert_exporter": "python",
   "pygments_lexer": "ipython3",
   "version": "3.6.1"
  }
 },
 "nbformat": 4,
 "nbformat_minor": 2
}
