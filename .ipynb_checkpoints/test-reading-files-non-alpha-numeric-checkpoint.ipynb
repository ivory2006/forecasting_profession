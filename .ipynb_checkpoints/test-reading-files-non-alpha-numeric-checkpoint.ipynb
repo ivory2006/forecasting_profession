{
 "cells": [
  {
   "cell_type": "code",
   "execution_count": 2,
   "metadata": {
    "collapsed": false
   },
   "outputs": [
    {
     "name": "stdout",
     "output_type": "stream",
     "text": [
      "﻿@fox when do you get in?RT @ctrlaltjustine: I believe it's vital for all not-engineer tech folk to remember on days like today:\n",
      "\n",
      "💜 YOUR ACCOMPLISHMENTS ARE IMPORTA…@rkh_popcorn oh snap@johndunham @travisci Thank you. The load on .com is caused by a significantly smaller number or projects, though.@josephcorcoran new business plan for @travisci: smart algorithm for build history order. 💰💰💰@johndunham @travisci … a few paying customers on https://t.co/AitiTuUPQx, though, and many that don't pay on… https://t.co/8uDZGrZW8E@johndunham @travisci That is not easy to say for sure at the moment. 101.1 years on https://t.co/AitiTuUPQx, 50.9… https://t.co/l5aWvhkvMm@travisci That's 5 years per day. Average build ran for 6.3 minutes (4.8 for Linux, 10.9 for Mac).In June, @travisci ran more than 150 build years (that is time just running builds, *not* including VM booting, other infrastructure, etc).@philsturgeon I’m sorry.@ctrlaltjustine Still a better love story than Twilight.@ganzefolge Jupp, hatte das gleiche Problem in der Vergangenheit. “Was mach ich denn schon interessantes, über das ich reden kann?”@kossnocorp Hey, this talk has been recorded, there should be multiple versions on YouTube, traveling atm, can look for links later.RT @matadon: @headius we may need some sort of automated system that will alert us if @konstantinhaase ever grows a goatee@RobertReiz @svenfuchs @travisci @VersionEye sorry, not in Berlin at the moment.@Argorak maybe, overlaps with company offsite, so I’d probably miss most of the first day.@Argorak also, how is RustConf Europe not at Europa-Park Rust?🎉🏳️‍🌈❤️🇩🇪 #ehefüralle@ctrlaltjustine safe travel.@ctrlaltjustine still in line?\n"
     ]
    }
   ],
   "source": [
    "import codecs\n",
    "f = open(\"4.txt\", \"r\")\n",
    "s = f.read()\n",
    "print(s)\n",
    "\n",
    "print ''.join(ch for ch in s if ch.isalnum())"
   ]
  },
  {
   "cell_type": "code",
   "execution_count": null,
   "metadata": {
    "collapsed": true
   },
   "outputs": [],
   "source": []
  }
 ],
 "metadata": {
  "kernelspec": {
   "display_name": "Python 2",
   "language": "python",
   "name": "python2"
  },
  "language_info": {
   "codemirror_mode": {
    "name": "ipython",
    "version": 2
   },
   "file_extension": ".py",
   "mimetype": "text/x-python",
   "name": "python",
   "nbconvert_exporter": "python",
   "pygments_lexer": "ipython2",
   "version": "2.7.13"
  }
 },
 "nbformat": 4,
 "nbformat_minor": 0
}
