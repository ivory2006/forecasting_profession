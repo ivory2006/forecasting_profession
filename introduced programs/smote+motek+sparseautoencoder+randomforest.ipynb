{
 "cells": [
  {
   "cell_type": "code",
   "execution_count": 5,
   "metadata": {},
   "outputs": [],
   "source": [
    "#-multibars,Author:ssb--\n",
    "from sklearn import metrics, cross_validation\n",
    "from sklearn import datasets\n",
    "import numpy as np\n",
    "from sklearn.metrics import accuracy_score,precision_score,recall_score,f1_score,classification_report,confusion_matrix\n",
    "import pandas as pd\n",
    "from pprint import pprint\n",
    "from sklearn.model_selection import train_test_split,cross_val_score\n",
    "import matplotlib.pyplot as plt\n",
    "\n",
    "df=pd.read_csv('smote_tomek_no.csv')\n",
    "#df=pd.read_csv('sparseautoencoderResults.csv')\n",
    "#samples=df.loc[:,['Openness','Conscientousness','Extraversion','Agreeableness','Emotional_Range','Conversation','Openness to Change','Hedonism','Self-enhancement','Self-transcendence']]\n",
    "samples=df.loc[:,['f1','f2','f3','f4','f5','f6','f7','f8','f9','f10']]\n",
    "\n",
    "target=df.loc[:,'Profession']\n",
    "#cv_folds = cross_validation.StratifiedKFold(target, n_folds=5, shuffle=False, random_state=0)\n",
    "samples_train,samples_test,target_train,target_test = train_test_split(samples,target,test_size=0.2,random_state=0)"
   ]
  },
  {
   "cell_type": "code",
   "execution_count": 18,
   "metadata": {},
   "outputs": [
    {
     "name": "stdout",
     "output_type": "stream",
     "text": [
      "the logistic accuracy score is 0.123716503882\n",
      "the Logistic precision is 0.11\n",
      "the Logistic recall is 0.12\n",
      "the Logistic f1score is 0.09 \n",
      "\n"
     ]
    },
    {
     "name": "stderr",
     "output_type": "stream",
     "text": [
      "/home/users/u1037466/.local/lib/python3.6/site-packages/sklearn/metrics/classification.py:1135: UndefinedMetricWarning: Precision and F-score are ill-defined and being set to 0.0 in labels with no predicted samples.\n",
      "  'precision', 'predicted', average, warn_for)\n"
     ]
    }
   ],
   "source": [
    "from sklearn.linear_model import LogisticRegression\n",
    "classifier_SL=LogisticRegression().fit(samples_train,target_train) \n",
    "target_pred_SL=classifier_SL.predict(samples_test) \n",
    "accuracy_SL=accuracy_score(target_test,target_pred_SL) \n",
    "report_SL=classification_report(target_test,target_pred_SL)\n",
    "lines_SL = report_SL.split('\\n')\n",
    "NewLines_SL=lines_SL[52].split(' ')\n",
    "Logistic_precision_SL=float(NewLines_SL[28])\n",
    "Logistic_recall_SL=float(NewLines_SL[34])\n",
    "Logistic_f1score_SL=float(NewLines_SL[40])\n",
    "print ('the logistic accuracy score is',accuracy_SL)\n",
    "print(\"the Logistic precision is\",Logistic_precision_SL)\n",
    "print(\"the Logistic recall is\",Logistic_recall_SL)\n",
    "print(\"the Logistic f1score is\",Logistic_f1score_SL,'\\n')\n"
   ]
  },
  {
   "cell_type": "code",
   "execution_count": 8,
   "metadata": {},
   "outputs": [
    {
     "name": "stdout",
     "output_type": "stream",
     "text": [
      "the RF accuracy score is 0.965612705814\n"
     ]
    }
   ],
   "source": [
    "#randomforest\n",
    "from sklearn.ensemble import RandomForestClassifier,AdaBoostClassifier\n",
    "RF=RandomForestClassifier()\n",
    "RF_train=RF.fit(samples_train,target_train)\n",
    "target_pred_SL_R=RF_train.predict(samples_test) #testing dataset\n",
    "accuracy_SL_R=accuracy_score(target_test,target_pred_SL_R) #accuracy rate\n",
    "randomforest_report=classification_report(target_test,target_pred_SL_R) #report\n",
    "lines_RF = randomforest_report.split('\\n')\n",
    "# NewLines_RF=lines_RF[52].split(' ')\n",
    "# Logistic_precision_RF=float(NewLines_RF[28])\n",
    "# Logistic_recall_RF=float(NewLines_RF[34])\n",
    "# Logistic_f1score_RF=float(NewLines_RF[40])\n",
    "print ('the RF accuracy score is',accuracy_SL_R)\n",
    "# print(\"the RF precision is\",Logistic_precision_RF)\n",
    "# print(\"the RF recall is\",Logistic_recall_RF)\n",
    "# print(\"the RF f1score is\",Logistic_f1score_RF,'\\n')\n"
   ]
  },
  {
   "cell_type": "code",
   "execution_count": 22,
   "metadata": {},
   "outputs": [
    {
     "name": "stdout",
     "output_type": "stream",
     "text": [
      "the AD accuracy score is 0.0648635111445\n",
      "the AD precision is 0.08\n",
      "the AD recall is 0.06\n",
      "the AD f1score is 0.05 \n",
      "\n"
     ]
    },
    {
     "name": "stderr",
     "output_type": "stream",
     "text": [
      "/home/users/u1037466/.local/lib/python3.6/site-packages/sklearn/metrics/classification.py:1135: UndefinedMetricWarning: Precision and F-score are ill-defined and being set to 0.0 in labels with no predicted samples.\n",
      "  'precision', 'predicted', average, warn_for)\n"
     ]
    }
   ],
   "source": [
    "#AdaBoostClassifier\n",
    "from sklearn.ensemble import AdaBoostClassifier\n",
    "classifier_AD=AdaBoostClassifier().fit(samples_train,target_train) \n",
    "target_pred_AD=classifier_AD.predict(samples_test) \n",
    "accuracy_AD=accuracy_score(target_test,target_pred_AD) \n",
    "report_AD=classification_report(target_test,target_pred_AD)\n",
    "lines_AD = report_AD.split('\\n')\n",
    "NewLines_AD=lines_AD[52].split(' ')\n",
    "Logistic_precision_AD=float(NewLines_AD[28])\n",
    "Logistic_recall_AD=float(NewLines_AD[34])\n",
    "Logistic_f1score_AD=float(NewLines_AD[40])\n",
    "print ('the AD accuracy score is',accuracy_AD)\n",
    "print(\"the AD precision is\",Logistic_precision_AD)\n",
    "print(\"the AD recall is\",Logistic_recall_AD)\n",
    "print(\"the AD f1score is\",Logistic_f1score_AD,'\\n')\n"
   ]
  },
  {
   "cell_type": "code",
   "execution_count": 23,
   "metadata": {},
   "outputs": [
    {
     "name": "stdout",
     "output_type": "stream",
     "text": [
      "the NB accuracy score is 0.0951665414475\n",
      "the NB precision is 0.13\n",
      "the NB recall is 0.1\n",
      "the NB f1score is 0.07 \n",
      "\n"
     ]
    },
    {
     "name": "stderr",
     "output_type": "stream",
     "text": [
      "/home/users/u1037466/.local/lib/python3.6/site-packages/sklearn/metrics/classification.py:1135: UndefinedMetricWarning: Precision and F-score are ill-defined and being set to 0.0 in labels with no predicted samples.\n",
      "  'precision', 'predicted', average, warn_for)\n"
     ]
    }
   ],
   "source": [
    "#NaiveBays\n",
    "from sklearn.naive_bayes import GaussianNB\n",
    "classifier_NB=GaussianNB().fit(samples_train,target_train) \n",
    "target_pred_NB=classifier_NB.predict(samples_test) \n",
    "accuracy_NB=accuracy_score(target_test,target_pred_NB) \n",
    "report_NB=classification_report(target_test,target_pred_NB)\n",
    "lines_NB = report_NB.split('\\n')\n",
    "NewLines_NB=lines_NB[52].split(' ')\n",
    "Logistic_precision_NB=float(NewLines_NB[28])\n",
    "Logistic_recall_NB=float(NewLines_NB[34])\n",
    "Logistic_f1score_NB=float(NewLines_NB[40])\n",
    "print ('the NB accuracy score is',accuracy_NB)\n",
    "print(\"the NB precision is\",Logistic_precision_NB)\n",
    "print(\"the NB recall is\",Logistic_recall_NB)\n",
    "print(\"the NB f1score is\",Logistic_f1score_NB,'\\n')\n"
   ]
  },
  {
   "cell_type": "code",
   "execution_count": 24,
   "metadata": {},
   "outputs": [
    {
     "name": "stdout",
     "output_type": "stream",
     "text": [
      "the SVC accuracy score is 0.114951164538\n",
      "the SVC precision is 0.13\n",
      "the SVC recall is 0.11\n",
      "the SVC f1score is 0.08 \n",
      "\n"
     ]
    },
    {
     "name": "stderr",
     "output_type": "stream",
     "text": [
      "/home/users/u1037466/.local/lib/python3.6/site-packages/sklearn/metrics/classification.py:1135: UndefinedMetricWarning: Precision and F-score are ill-defined and being set to 0.0 in labels with no predicted samples.\n",
      "  'precision', 'predicted', average, warn_for)\n"
     ]
    }
   ],
   "source": [
    "#SVM\n",
    "from sklearn.svm import SVC\n",
    "classifier_SVC=SVC().fit(samples_train,target_train) \n",
    "target_pred_SVC=classifier_SVC.predict(samples_test) \n",
    "accuracy_SVC=accuracy_score(target_test,target_pred_SVC) \n",
    "report_SVC=classification_report(target_test,target_pred_SVC)\n",
    "lines_SVaccuracy_SL，accuracy_SL_R，accuracy_AD，accuracy_NB，accuracy_SVCC = report_SVC.split('\\n')\n",
    "NewLines_SVC=lines_SVC[52].split(' ')\n",
    "Logistic_precision_SVC=float(NewLines_SVC[28])\n",
    "Logistic_recall_SVC=float(NewLines_SVC[34])\n",
    "Logistic_f1score_SVC=float(NewLines_SVC[40])\n",
    "print ('the SVC accuracy score is',accuracy_SVC)\n",
    "print(\"the SVC precision is\",Logistic_precision_SVC)\n",
    "print(\"the SVC recall is\",Logistic_recall_SVC)\n",
    "print(\"the SVC f1score is\",Logistic_f1score_SVC,'\\n')\n"
   ]
  },
  {
   "cell_type": "code",
   "execution_count": 30,
   "metadata": {},
   "outputs": [
    {
     "data": {
      "image/png": "[encoded data removed]",
      "text/plain": [
       "<matplotlib.figure.Figure at 0x7f505e2e8a90>"
      ]
     },
     "metadata": {},
     "output_type": "display_data"
    }
   ],
   "source": [
    "#multibars\n",
    "df=pd.DataFrame([[accuracy_SL,accuracy_SL_R,accuracy_AD,accuracy_NB,accuracy_SVC],[Logistic_precision_SL,Logistic_precision_RF,Logistic_precision_AD,Logistic_precision_NB,Logistic_precision_SVC],[Logistic_recall_SL,Logistic_recall_RF,Logistic_recall_AD,Logistic_recall_NB,Logistic_recall_SVC],[Logistic_f1score_SL,Logistic_f1score_RF,Logistic_f1score_AD,Logistic_f1score_NB,Logistic_f1score_SVC]],index=['accuracy','precision','recall','f1score'],columns=['logistic','randomforest','Adaboost','bayes','svm'])\n",
    "fig = plt.figure() # Create matplotlib figure\n",
    "ax = fig.add_subplot(111) # Create matplotlib axes\n",
    "df.logistic.plot(kind='bar', color='red', ax=ax, width=0.1, position=0)\n",
    "df.randomforest.plot(kind='bar', color='blue', ax=ax, width=0.1, position=-1)\n",
    "df.Adaboost.plot(kind='bar', color='green', ax=ax, width=0.1, position=-2)\n",
    "df.bayes.plot(kind='bar', color='yellow', ax=ax, width=0.1, position=-3)\n",
    "df.svm.plot(kind='bar', color='gray', ax=ax, width=0.1, position=-4)\n",
    "ax.set_ylabel('percentage')\n",
    "ax.set_xticklabels(ax.xaxis.get_majorticklabels(), rotation=0)\n",
    "#ax.legend(())\n",
    "plt.legend(['logistic','randomforest','AdaBoost','bayes','svm'],loc='upper right',fontsize=8)\n",
    "plt.title('Multibars')\n",
    "plt.show()\n"
   ]
  },
  {
   "cell_type": "code",
   "execution_count": null,
   "metadata": {
    "collapsed": true
   },
   "outputs": [],
   "source": []
  }
 ],
 "metadata": {
  "kernelspec": {
   "display_name": "Python 3",
   "language": "python",
   "name": "python3"
  },
  "language_info": {
   "codemirror_mode": {
    "name": "ipython",
    "version": 3
   },
   "file_extension": ".py",
   "mimetype": "text/x-python",
   "name": "python",
   "nbconvert_exporter": "python",
   "pygments_lexer": "ipython3",
   "version": "3.6.2"
  }
 },
 "nbformat": 4,
 "nbformat_minor": 2
}
