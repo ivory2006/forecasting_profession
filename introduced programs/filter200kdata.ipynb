{
 "cells": [
  {
   "cell_type": "code",
   "execution_count": 1,
   "metadata": {},
   "outputs": [
    {
     "name": "stdout",
     "output_type": "stream",
     "text": [
      "Profession\n",
      "Account Manager                   453\n",
      "Administrative Assistant          276\n",
      "Analyst                           389\n",
      "Applications Analyst              296\n",
      "Appraiser                         438\n",
      "Asset Manager                     304\n",
      "Assistant Manager                 336\n",
      "Business Agent                    305\n",
      "Business Analyst                  449\n",
      "Business Development Director     380\n",
      "Business Development Manager      300\n",
      "Business Manager                  461\n",
      "Business Process Analyst          284\n",
      "Buyer                             297\n",
      "Chief Technology Officer (CTO)    304\n",
      "Compliance Analyst                525\n",
      "Compliance Manager                284\n",
      "Computer Architect                284\n",
      "Consultant                        527\n",
      "Contracts Specialist              476\n",
      "Controller                        304\n",
      "Data Analyst                      462\n",
      "Development Associate             546\n",
      "Development Coordinator           370\n",
      "Development Director              305\n",
      "Enterprise Architect              390\n",
      "Executive Director                320\n",
      "Finance Director                  305\n",
      "Importer Exporter                 335\n",
      "Information Architect             380\n",
      "                                 ... \n",
      "Office Manager                    288\n",
      "Operations Manager                701\n",
      "Operations Specialist             383\n",
      "Operations Supervisor             355\n",
      "Operations Vice President         292\n",
      "Plant Manager                     450\n",
      "Portfolio Manager                 304\n",
      "Pricing Analyst                   272\n",
      "Procurement Specialist            310\n",
      "Production Manager                363\n",
      "Program Director                  320\n",
      "Program Manager                   681\n",
      "Programmer Analyst                272\n",
      "Project Manager                   444\n",
      "Relationship Manager              304\n",
      "Reporting Analyst                 252\n",
      "Research Associate                312\n",
      "Research Director                 309\n",
      "Risk Analyst                      444\n",
      "Security Consultant               312\n",
      "Software Development Engineer     355\n",
      "Software Engineer                 539\n",
      "Special Agent                     296\n",
      "Station Manager                   288\n",
      "Superintendent                    299\n",
      "Systems Analyst                   584\n",
      "Systems Engineer                  693\n",
      "Tax Manager                       296\n",
      "Technical Analyst                 371\n",
      "Technical Support Engineer        272\n",
      "Length: 71, dtype: int64\n"
     ]
    }
   ],
   "source": [
    "import pandas as pd\n",
    "\n",
    "df=pd.read_csv(\"new_200k.csv\",low_memory=False)\n",
    "grouped=df.groupby('Profession')  #the sum of group\n",
    "conl=lambda s:len(s)>250\n",
    "df1 = grouped.filter(conl)\n",
    "df1.to_csv (\"new200k_250.csv\",encoding = \"utf-8\")\n",
    "\n",
    "df2=pd.read_csv(\"new200k_250.csv\",low_memory=False)\n",
    "a=df2.groupby('Profession').size()\n",
    "print(a)\n",
    "\n",
    "\n",
    "\n",
    "\n",
    "    \n"
   ]
  }
 ],
 "metadata": {
  "kernelspec": {
   "display_name": "Python 3",
   "language": "python",
   "name": "python3"
  },
  "language_info": {
   "codemirror_mode": {
    "name": "ipython",
    "version": 3
   },
   "file_extension": ".py",
   "mimetype": "text/x-python",
   "name": "python",
   "nbconvert_exporter": "python",
   "pygments_lexer": "ipython3",
   "version": "3.6.1"
  }
 },
 "nbformat": 4,
 "nbformat_minor": 2
}
