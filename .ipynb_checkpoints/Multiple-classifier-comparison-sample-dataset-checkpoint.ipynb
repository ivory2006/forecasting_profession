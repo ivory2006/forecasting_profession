{
 "cells": [
  {
   "cell_type": "markdown",
   "metadata": {},
   "source": [
    "Loading packages and dataset."
   ]
  },
  {
   "cell_type": "code",
   "execution_count": 1,
   "metadata": {
    "collapsed": false
   },
   "outputs": [
    {
     "name": "stderr",
     "output_type": "stream",
     "text": [
      "/home/andrei/anaconda2/lib/python2.7/site-packages/sklearn/cross_validation.py:44: DeprecationWarning: This module was deprecated in version 0.18 in favor of the model_selection module into which all the refactored classes and functions are moved. Also note that the interface of the new CV iterators are different from that of this module. This module will be removed in 0.20.\n",
      "  \"This module will be removed in 0.20.\", DeprecationWarning)\n"
     ]
    }
   ],
   "source": [
    "from sklearn import metrics, cross_validation\n",
    "from sklearn import datasets\n",
    "import numpy as np\n",
    "from sklearn.metrics import accuracy_score,precision_score,recall_score,f1_score,classification_report,confusion_matrix\n",
    "import pandas as pd\n",
    "import matplotlib.pyplot as plt\n",
    "%matplotlib inline  \n",
    "\n",
    "df=pd.read_csv('dataSampleNumber.csv')\n",
    "\n",
    "## variables and constants\n",
    "no_folds = 5"
   ]
  },
  {
   "cell_type": "markdown",
   "metadata": {},
   "source": [
    "Constructing cross-validation set."
   ]
  },
  {
   "cell_type": "code",
   "execution_count": 2,
   "metadata": {
    "collapsed": false
   },
   "outputs": [],
   "source": [
    "samples=df.loc[:,['Openness','Conscientousness','Extraversion','Agreeableness','Emotional_Range','Conversation','Openness to Change','Hedonism','Self-enhancement','Self-transcendence']]\n",
    "target=df.loc[:,'Profession']\n",
    "cv_folds = cross_validation.StratifiedKFold(target, n_folds=no_folds, shuffle=False, random_state=0)"
   ]
  },
  {
   "cell_type": "code",
   "execution_count": 3,
   "metadata": {
    "collapsed": false
   },
   "outputs": [
    {
     "name": "stdout",
     "output_type": "stream",
     "text": [
      "('Logistic accuracy mean is', 0.48025644532912876)\n",
      "('the Logistic standard deviation is', 0.035745937961473594)\n",
      "('the Logistic precision is', 0.43672601107702047)\n",
      "('the Logistic recall is', 0.48051948051948051)\n",
      "('the Logistic f1score is', 0.42086444685389302, '\\n')\n"
     ]
    },
    {
     "name": "stderr",
     "output_type": "stream",
     "text": [
      "/home/andrei/anaconda2/lib/python2.7/site-packages/sklearn/metrics/classification.py:1113: UndefinedMetricWarning: Precision is ill-defined and being set to 0.0 in labels with no predicted samples.\n",
      "  'precision', 'predicted', average, warn_for)\n",
      "/home/andrei/anaconda2/lib/python2.7/site-packages/sklearn/metrics/classification.py:1113: UndefinedMetricWarning: F-score is ill-defined and being set to 0.0 in labels with no predicted samples.\n",
      "  'precision', 'predicted', average, warn_for)\n"
     ]
    }
   ],
   "source": [
    "from sklearn.linear_model import LogisticRegression\n",
    "Logistic_predict = cross_validation.cross_val_predict(LogisticRegression(), samples, target, cv=cv_folds)\n",
    "# for (fold_no in 1:no_folds):\n",
    "    \n",
    "\n",
    "Logistic_score =cross_validation.cross_val_score(LogisticRegression(), samples, target, cv=cv_folds)\n",
    "Logistic_mean=Logistic_score.mean()\n",
    "Logistic_std=Logistic_score.std()\n",
    "Logistic_precision=precision_score(target,Logistic_predict,average='weighted')\n",
    "Logistic_recall=recall_score(target,Logistic_predict,average='weighted')\n",
    "Logistic_f1score=f1_score(target,Logistic_predict,average='weighted')\n",
    "print(\"Logistic accuracy mean is\",Logistic_mean)\n",
    "print(\"the Logistic standard deviation is\",Logistic_std)\n",
    "print(\"the Logistic precision is\",Logistic_precision)\n",
    "print(\"the Logistic recall is\",Logistic_recall)\n",
    "print(\"the Logistic f1score is\",Logistic_f1score,'\\n')"
   ]
  },
  {
   "cell_type": "code",
   "execution_count": 4,
   "metadata": {
    "collapsed": false
   },
   "outputs": [
    {
     "name": "stdout",
     "output_type": "stream",
     "text": [
      "('randomforest accuracy mean is', 0.45574646268470237)\n",
      "('the randomforest standard deviation is', 0.024381000810925035)\n",
      "('the randomforest precision is', 0.42267581270201798)\n",
      "('the randomforest recall is', 0.44959802102659246)\n",
      "('the randomforest f1score is', 0.42886706003620789, '\\n')\n"
     ]
    }
   ],
   "source": [
    "#randomforest\n",
    "from sklearn.ensemble import RandomForestClassifier,AdaBoostClassifier\n",
    "randomForest_predict = cross_validation.cross_val_predict(RandomForestClassifier(), samples, target, cv=cv_folds)\n",
    "randomforest_score = cross_validation.cross_val_score(RandomForestClassifier(), samples, target, cv=cv_folds)\n",
    "randomforest_mean=randomforest_score.mean()\n",
    "randomforest_std=randomforest_score.std()\n",
    "randomforest_precision=precision_score(target,randomForest_predict,average='weighted')\n",
    "randomforest_recall=recall_score(target,randomForest_predict,average='weighted')\n",
    "randomforest_f1score=f1_score(target,randomForest_predict,average='weighted')\n",
    "print(\"randomforest accuracy mean is\",randomforest_mean)\n",
    "print(\"the randomforest standard deviation is\",randomforest_std)\n",
    "print(\"the randomforest precision is\",randomforest_precision)\n",
    "print(\"the randomforest recall is\",randomforest_recall)\n",
    "print(\"the randomforest f1score is\",randomforest_f1score,'\\n')"
   ]
  },
  {
   "cell_type": "code",
   "execution_count": 5,
   "metadata": {
    "collapsed": false
   },
   "outputs": [
    {
     "name": "stdout",
     "output_type": "stream",
     "text": [
      "('AdaBoost accuracy mean is', 0.45574646268470237)\n",
      "('the AdaBoost standard deviation is', 0.024381000810925035)\n",
      "('the AdaBoost precision is', 0.20415684177564949)\n",
      "('the AdaBoost recall is', 0.2752009894867038)\n",
      "('the AdaBoost f1score is', 0.21450669577234521, '\\n')\n"
     ]
    }
   ],
   "source": [
    "#AdaBoostClassifier\n",
    "AdaBoost_predict = cross_validation.cross_val_predict(AdaBoostClassifier(), samples, target, cv=cv_folds)\n",
    "AdaBoost_score = cross_validation.cross_val_score(AdaBoostClassifier(), samples, target, cv=cv_folds)\n",
    "AdaBoost_mean=randomforest_score.mean()\n",
    "AdaBoost_std=randomforest_score.std()\n",
    "AdaBoost_precision=precision_score(target,AdaBoost_predict,average='weighted')\n",
    "AdaBoost_recall=recall_score(target,AdaBoost_predict,average='weighted')\n",
    "AdaBoost_f1score=f1_score(target,AdaBoost_predict,average='weighted')\n",
    "print(\"AdaBoost accuracy mean is\",AdaBoost_mean)\n",
    "print(\"the AdaBoost standard deviation is\",AdaBoost_std)\n",
    "print(\"the AdaBoost precision is\",AdaBoost_precision)\n",
    "print(\"the AdaBoost recall is\",AdaBoost_recall)\n",
    "print(\"the AdaBoost f1score is\",AdaBoost_f1score,'\\n')"
   ]
  },
  {
   "cell_type": "code",
   "execution_count": 6,
   "metadata": {
    "collapsed": false
   },
   "outputs": [
    {
     "name": "stdout",
     "output_type": "stream",
     "text": [
      "('bayes accuracy mean is', 0.4048869379841924)\n",
      "('the bayes standard deviation is', 0.026584913272705117)\n",
      "('the bayes precision is', 0.42100092174731107)\n",
      "('the bayes recall is', 0.40507111935683365)\n",
      "('the bayes f1score is', 0.38394961856048432, '\\n')\n"
     ]
    }
   ],
   "source": [
    "#Naive Bayes\n",
    "from sklearn.naive_bayes import GaussianNB\n",
    "bayes_predict = cross_validation.cross_val_predict(GaussianNB(), samples, target, cv=cv_folds)\n",
    "bayes_score = cross_validation.cross_val_score(GaussianNB(), samples, target, cv=cv_folds)\n",
    "bayes_mean=bayes_score.mean()\n",
    "bayes_std=bayes_score.std()\n",
    "bayes_precision=precision_score(target,bayes_predict,average='weighted')\n",
    "bayes_recall=recall_score(target,bayes_predict,average='weighted')\n",
    "bayes_f1score=f1_score(target,bayes_predict,average='weighted')\n",
    "print(\"bayes accuracy mean is\",bayes_mean)\n",
    "print(\"the bayes standard deviation is\",bayes_std)\n",
    "print(\"the bayes precision is\",bayes_precision)\n",
    "print(\"the bayes recall is\",bayes_recall)\n",
    "print(\"the bayes f1score is\",bayes_f1score,'\\n')"
   ]
  },
  {
   "cell_type": "code",
   "execution_count": 12,
   "metadata": {
    "collapsed": false
   },
   "outputs": [
    {
     "name": "stdout",
     "output_type": "stream",
     "text": [
      "('svm accuracy mean is', 0.46851003927013241)\n",
      "('the svm standard deviation is', 0.038502150143424473)\n",
      "('the svm precision is', 0.34943674563170063)\n",
      "('the svm recall is', 0.46876932591218307)\n",
      "('the svm f1score is', 0.39293404954696071, '\\n')\n"
     ]
    }
   ],
   "source": [
    "#SVM\n",
    "from sklearn.svm import SVC\n",
    "svm_predict = cross_validation.cross_val_predict(SVC(), samples, target, cv=cv_folds)\n",
    "svm_score = cross_validation.cross_val_score(SVC(), samples, target, cv=cv_folds)\n",
    "svm_mean=svm_score.mean()\n",
    "svm_std=svm_score.std()\n",
    "svm_precision=precision_score(target,svm_predict,average='weighted')\n",
    "svm_recall=recall_score(target,svm_predict,average='weighted')\n",
    "svm_f1score=f1_score(target,svm_predict,average='weighted')\n",
    "print(\"svm accuracy mean is\",svm_mean)\n",
    "print(\"the svm standard deviation is\",svm_std)\n",
    "print(\"the svm precision is\",svm_precision)\n",
    "print(\"the svm recall is\",svm_recall)\n",
    "print(\"the svm f1score is\",svm_f1score,'\\n')"
   ]
  },
  {
   "cell_type": "code",
   "execution_count": 13,
   "metadata": {
    "collapsed": false
   },
   "outputs": [
    {
     "data": {
      "image/png": "[encoded data removed]",
      "text/plain": [
       "<matplotlib.figure.Figure at 0x7f59db31e110>"
      ]
     },
     "metadata": {},
     "output_type": "display_data"
    }
   ],
   "source": [
    "#multibars\n",
    "df=pd.DataFrame([[Logistic_mean,Logistic_precision,Logistic_recall,Logistic_f1score],[randomforest_mean,randomforest_precision,randomforest_recall,randomforest_f1score],[AdaBoost_mean,AdaBoost_precision,AdaBoost_recall,AdaBoost_f1score],[bayes_mean,bayes_precision,bayes_recall,bayes_f1score],[svm_mean,svm_precision,svm_recall,svm_f1score]],index=['Logistic','Randomforest','AdaBoost','bayes','SVM'],columns=['accuracy','precision','recall','f1score'])\n",
    "fig = plt.figure() # Create matplotlib figure\n",
    "ax = fig.add_subplot(111) # Create matplotlib axes\n",
    "df.accuracy.plot(kind='bar', color='red', ax=ax, width=0.2, position=0)\n",
    "df.precision.plot(kind='bar', color='blue', ax=ax, width=0.2, position=-1)\n",
    "df.recall.plot(kind='bar', color='green', ax=ax, width=0.2, position=-2)\n",
    "df.f1score.plot(kind='bar', color='yellow', ax=ax, width=0.2, position=-3)\n",
    "ax.set_ylabel('accuracy')\n",
    "plt.title('Multibars')\n",
    "plt.show()"
   ]
  },
  {
   "cell_type": "code",
   "execution_count": 11,
   "metadata": {
    "collapsed": false
   },
   "outputs": [
    {
     "data": {
      "image/png": "[encoded data removed]",
      "text/plain": [
       "<matplotlib.figure.Figure at 0x7f59db239d90>"
      ]
     },
     "metadata": {},
     "output_type": "display_data"
    }
   ],
   "source": [
    "#errorbars\n",
    "means   = [Logistic_mean,randomforest_mean,AdaBoost_mean,bayes_mean,svm_mean]         # Mean Data \n",
    "stds    = [Logistic_std,randomforest_std,AdaBoost_std,bayes_std,svm_std]            # Standard deviation Data\n",
    "peakval = [Logistic_mean,randomforest_mean,AdaBoost_mean,bayes_mean,svm_mean] # String array of means\n",
    "ind = np.arange(len(means))\n",
    "width = 0.2\n",
    "colours = ['red','blue','green','yellow','gray']\n",
    "plt.figure()\n",
    "plt.title('Errorbars')\n",
    "for i in range(len(means)):\n",
    "    plt.bar(ind[i],means[i],width,color=colours[i],align='center',yerr=stds[i],ecolor='k')\n",
    "plt.ylabel('Accuracy mean(%)')\n",
    "plt.xticks(ind,('Logistic','Randomforest','AdaBoost','Bayes','SVM'))\n",
    "def autolabel(bars,peakval):\n",
    "#def autolabel(bars):\n",
    "    for ii,bar in enumerate(bars):\n",
    "        height = bars[ii]\n",
    "        plt.text(ind[ii], height-5, '%s'% (peakval[ii]), ha='center', va='bottom')\n",
    "autolabel(means,peakval)\n",
    "#autolabel(means)\n",
    "plt.show()"
   ]
  },
  {
   "cell_type": "code",
   "execution_count": null,
   "metadata": {
    "collapsed": true
   },
   "outputs": [],
   "source": []
  }
 ],
 "metadata": {
  "kernelspec": {
   "display_name": "Python 2",
   "language": "python",
   "name": "python2"
  },
  "language_info": {
   "codemirror_mode": {
    "name": "ipython",
    "version": 2
   },
   "file_extension": ".py",
   "mimetype": "text/x-python",
   "name": "python",
   "nbconvert_exporter": "python",
   "pygments_lexer": "ipython2",
   "version": "2.7.13"
  }
 },
 "nbformat": 4,
 "nbformat_minor": 0
}
